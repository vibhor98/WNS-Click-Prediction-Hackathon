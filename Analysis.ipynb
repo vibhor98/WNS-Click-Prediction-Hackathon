{
 "cells": [
  {
   "cell_type": "markdown",
   "metadata": {},
   "source": [
    "## WNS Hackathon"
   ]
  },
  {
   "cell_type": "code",
   "execution_count": 3,
   "metadata": {},
   "outputs": [],
   "source": [
    "import pandas as pd\n",
    "import numpy as np\n",
    "import seaborn as sns\n",
    "import matplotlib.pyplot as plt\n",
    "from sklearn.model_selection import train_test_split\n",
    "import xgboost as xgb\n",
    "from sklearn.metrics import roc_auc_score, mean_absolute_error\n",
    "from sklearn.preprocessing import LabelEncoder\n",
    "\n",
    "% matplotlib inline"
   ]
  },
  {
   "cell_type": "code",
   "execution_count": 4,
   "metadata": {},
   "outputs": [
    {
     "data": {
      "text/html": [
       "<div>\n",
       "<style scoped>\n",
       "    .dataframe tbody tr th:only-of-type {\n",
       "        vertical-align: middle;\n",
       "    }\n",
       "\n",
       "    .dataframe tbody tr th {\n",
       "        vertical-align: top;\n",
       "    }\n",
       "\n",
       "    .dataframe thead th {\n",
       "        text-align: right;\n",
       "    }\n",
       "</style>\n",
       "<table border=\"1\" class=\"dataframe\">\n",
       "  <thead>\n",
       "    <tr style=\"text-align: right;\">\n",
       "      <th></th>\n",
       "      <th>impression_id</th>\n",
       "      <th>impression_time</th>\n",
       "      <th>user_id</th>\n",
       "      <th>app_code</th>\n",
       "      <th>os_version</th>\n",
       "      <th>is_4G</th>\n",
       "      <th>is_click</th>\n",
       "    </tr>\n",
       "  </thead>\n",
       "  <tbody>\n",
       "    <tr>\n",
       "      <th>0</th>\n",
       "      <td>c4ca4238a0b923820dcc509a6f75849b</td>\n",
       "      <td>2018-11-15 00:00:00</td>\n",
       "      <td>87862</td>\n",
       "      <td>422</td>\n",
       "      <td>old</td>\n",
       "      <td>0</td>\n",
       "      <td>0</td>\n",
       "    </tr>\n",
       "    <tr>\n",
       "      <th>1</th>\n",
       "      <td>45c48cce2e2d7fbdea1afc51c7c6ad26</td>\n",
       "      <td>2018-11-15 00:01:00</td>\n",
       "      <td>63410</td>\n",
       "      <td>467</td>\n",
       "      <td>latest</td>\n",
       "      <td>1</td>\n",
       "      <td>1</td>\n",
       "    </tr>\n",
       "    <tr>\n",
       "      <th>2</th>\n",
       "      <td>70efdf2ec9b086079795c442636b55fb</td>\n",
       "      <td>2018-11-15 00:02:00</td>\n",
       "      <td>71748</td>\n",
       "      <td>259</td>\n",
       "      <td>intermediate</td>\n",
       "      <td>1</td>\n",
       "      <td>0</td>\n",
       "    </tr>\n",
       "    <tr>\n",
       "      <th>3</th>\n",
       "      <td>8e296a067a37563370ded05f5a3bf3ec</td>\n",
       "      <td>2018-11-15 00:02:00</td>\n",
       "      <td>69209</td>\n",
       "      <td>244</td>\n",
       "      <td>latest</td>\n",
       "      <td>1</td>\n",
       "      <td>0</td>\n",
       "    </tr>\n",
       "    <tr>\n",
       "      <th>4</th>\n",
       "      <td>182be0c5cdcd5072bb1864cdee4d3d6e</td>\n",
       "      <td>2018-11-15 00:02:00</td>\n",
       "      <td>62873</td>\n",
       "      <td>473</td>\n",
       "      <td>latest</td>\n",
       "      <td>0</td>\n",
       "      <td>0</td>\n",
       "    </tr>\n",
       "  </tbody>\n",
       "</table>\n",
       "</div>"
      ],
      "text/plain": [
       "                      impression_id      impression_time  user_id  app_code  \\\n",
       "0  c4ca4238a0b923820dcc509a6f75849b  2018-11-15 00:00:00    87862       422   \n",
       "1  45c48cce2e2d7fbdea1afc51c7c6ad26  2018-11-15 00:01:00    63410       467   \n",
       "2  70efdf2ec9b086079795c442636b55fb  2018-11-15 00:02:00    71748       259   \n",
       "3  8e296a067a37563370ded05f5a3bf3ec  2018-11-15 00:02:00    69209       244   \n",
       "4  182be0c5cdcd5072bb1864cdee4d3d6e  2018-11-15 00:02:00    62873       473   \n",
       "\n",
       "     os_version  is_4G  is_click  \n",
       "0           old      0         0  \n",
       "1        latest      1         1  \n",
       "2  intermediate      1         0  \n",
       "3        latest      1         0  \n",
       "4        latest      0         0  "
      ]
     },
     "execution_count": 4,
     "metadata": {},
     "output_type": "execute_result"
    }
   ],
   "source": [
    "train = pd.read_csv('./train_NA17Sgz/train.csv')\n",
    "train.head()"
   ]
  },
  {
   "cell_type": "code",
   "execution_count": 5,
   "metadata": {},
   "outputs": [
    {
     "data": {
      "text/plain": [
       "impression_id      object\n",
       "impression_time    object\n",
       "user_id             int64\n",
       "app_code            int64\n",
       "os_version         object\n",
       "is_4G               int64\n",
       "is_click            int64\n",
       "dtype: object"
      ]
     },
     "execution_count": 5,
     "metadata": {},
     "output_type": "execute_result"
    }
   ],
   "source": [
    "train.dtypes\n",
    "#len(set(train['user_id']))"
   ]
  },
  {
   "cell_type": "code",
   "execution_count": 6,
   "metadata": {},
   "outputs": [
    {
     "name": "stdout",
     "output_type": "stream",
     "text": [
      "Shape of train set: (237609, 7)\n"
     ]
    },
    {
     "data": {
      "text/plain": [
       "impression_id      0\n",
       "impression_time    0\n",
       "user_id            0\n",
       "app_code           0\n",
       "os_version         0\n",
       "is_4G              0\n",
       "is_click           0\n",
       "dtype: int64"
      ]
     },
     "execution_count": 6,
     "metadata": {},
     "output_type": "execute_result"
    }
   ],
   "source": [
    "print('Shape of train set:', train.shape)\n",
    "train.isna().sum()"
   ]
  },
  {
   "cell_type": "code",
   "execution_count": 7,
   "metadata": {},
   "outputs": [
    {
     "data": {
      "text/plain": [
       "<matplotlib.axes._subplots.AxesSubplot at 0x109209f98>"
      ]
     },
     "execution_count": 7,
     "metadata": {},
     "output_type": "execute_result"
    },
    {
     "data": {
      "image/png": "[encoded data removed]",
      "text/plain": [
       "<Figure size 432x288 with 1 Axes>"
      ]
     },
     "metadata": {},
     "output_type": "display_data"
    }
   ],
   "source": [
    "sns.countplot(x='is_click', data=train)"
   ]
  },
  {
   "cell_type": "code",
   "execution_count": 8,
   "metadata": {},
   "outputs": [
    {
     "data": {
      "text/plain": [
       "10862"
      ]
     },
     "execution_count": 8,
     "metadata": {},
     "output_type": "execute_result"
    }
   ],
   "source": [
    "len(train.loc[train['is_click']==1])"
   ]
  },
  {
   "cell_type": "markdown",
   "metadata": {},
   "source": [
    "**So, only 4% of training set contains is_click = 1 label.**"
   ]
  },
  {
   "cell_type": "code",
   "execution_count": 9,
   "metadata": {},
   "outputs": [
    {
     "data": {
      "text/html": [
       "<div>\n",
       "<style scoped>\n",
       "    .dataframe tbody tr th:only-of-type {\n",
       "        vertical-align: middle;\n",
       "    }\n",
       "\n",
       "    .dataframe tbody tr th {\n",
       "        vertical-align: top;\n",
       "    }\n",
       "\n",
       "    .dataframe thead th {\n",
       "        text-align: right;\n",
       "    }\n",
       "</style>\n",
       "<table border=\"1\" class=\"dataframe\">\n",
       "  <thead>\n",
       "    <tr style=\"text-align: right;\">\n",
       "      <th></th>\n",
       "      <th>server_time</th>\n",
       "      <th>device_type</th>\n",
       "      <th>session_id</th>\n",
       "      <th>user_id</th>\n",
       "      <th>item_id</th>\n",
       "    </tr>\n",
       "  </thead>\n",
       "  <tbody>\n",
       "    <tr>\n",
       "      <th>0</th>\n",
       "      <td>2018-10-15 08:58:00</td>\n",
       "      <td>android</td>\n",
       "      <td>112333</td>\n",
       "      <td>4557</td>\n",
       "      <td>32970</td>\n",
       "    </tr>\n",
       "    <tr>\n",
       "      <th>1</th>\n",
       "      <td>2018-10-15 08:58:00</td>\n",
       "      <td>android</td>\n",
       "      <td>503590</td>\n",
       "      <td>74788</td>\n",
       "      <td>7640</td>\n",
       "    </tr>\n",
       "    <tr>\n",
       "      <th>2</th>\n",
       "      <td>2018-10-15 08:58:00</td>\n",
       "      <td>android</td>\n",
       "      <td>573960</td>\n",
       "      <td>23628</td>\n",
       "      <td>128855</td>\n",
       "    </tr>\n",
       "    <tr>\n",
       "      <th>3</th>\n",
       "      <td>2018-10-15 08:58:00</td>\n",
       "      <td>android</td>\n",
       "      <td>121691</td>\n",
       "      <td>2430</td>\n",
       "      <td>12774</td>\n",
       "    </tr>\n",
       "    <tr>\n",
       "      <th>4</th>\n",
       "      <td>2018-10-15 08:58:00</td>\n",
       "      <td>android</td>\n",
       "      <td>218564</td>\n",
       "      <td>19227</td>\n",
       "      <td>28296</td>\n",
       "    </tr>\n",
       "  </tbody>\n",
       "</table>\n",
       "</div>"
      ],
      "text/plain": [
       "           server_time device_type  session_id  user_id  item_id\n",
       "0  2018-10-15 08:58:00     android      112333     4557    32970\n",
       "1  2018-10-15 08:58:00     android      503590    74788     7640\n",
       "2  2018-10-15 08:58:00     android      573960    23628   128855\n",
       "3  2018-10-15 08:58:00     android      121691     2430    12774\n",
       "4  2018-10-15 08:58:00     android      218564    19227    28296"
      ]
     },
     "execution_count": 9,
     "metadata": {},
     "output_type": "execute_result"
    }
   ],
   "source": [
    "view_log = pd.read_csv('./train_NA17Sgz/view_log.csv')\n",
    "view_log.head()"
   ]
  },
  {
   "cell_type": "code",
   "execution_count": 10,
   "metadata": {},
   "outputs": [
    {
     "name": "stdout",
     "output_type": "stream",
     "text": [
      "Shape of view_log: (3118622, 5)\n"
     ]
    }
   ],
   "source": [
    "print('Shape of view_log:', view_log.shape)"
   ]
  },
  {
   "cell_type": "code",
   "execution_count": 11,
   "metadata": {},
   "outputs": [
    {
     "data": {
      "text/plain": [
       "{'android', 'iphone', 'web'}"
      ]
     },
     "execution_count": 11,
     "metadata": {},
     "output_type": "execute_result"
    }
   ],
   "source": [
    "(set(view_log['device_type']))"
   ]
  },
  {
   "cell_type": "code",
   "execution_count": 12,
   "metadata": {},
   "outputs": [
    {
     "data": {
      "text/html": [
       "<div>\n",
       "<style scoped>\n",
       "    .dataframe tbody tr th:only-of-type {\n",
       "        vertical-align: middle;\n",
       "    }\n",
       "\n",
       "    .dataframe tbody tr th {\n",
       "        vertical-align: top;\n",
       "    }\n",
       "\n",
       "    .dataframe thead th {\n",
       "        text-align: right;\n",
       "    }\n",
       "</style>\n",
       "<table border=\"1\" class=\"dataframe\">\n",
       "  <thead>\n",
       "    <tr style=\"text-align: right;\">\n",
       "      <th></th>\n",
       "      <th>server_time</th>\n",
       "      <th>device_type</th>\n",
       "      <th>session_id</th>\n",
       "      <th>user_id</th>\n",
       "      <th>item_id</th>\n",
       "    </tr>\n",
       "  </thead>\n",
       "  <tbody>\n",
       "    <tr>\n",
       "      <th>158831</th>\n",
       "      <td>2018-10-18 12:02:00</td>\n",
       "      <td>android</td>\n",
       "      <td>342525</td>\n",
       "      <td>62873</td>\n",
       "      <td>32155</td>\n",
       "    </tr>\n",
       "    <tr>\n",
       "      <th>335392</th>\n",
       "      <td>2018-10-22 07:46:00</td>\n",
       "      <td>android</td>\n",
       "      <td>476439</td>\n",
       "      <td>62873</td>\n",
       "      <td>118475</td>\n",
       "    </tr>\n",
       "    <tr>\n",
       "      <th>1225915</th>\n",
       "      <td>2018-11-08 19:18:00</td>\n",
       "      <td>android</td>\n",
       "      <td>1074318</td>\n",
       "      <td>62873</td>\n",
       "      <td>32155</td>\n",
       "    </tr>\n",
       "    <tr>\n",
       "      <th>1226129</th>\n",
       "      <td>2018-11-08 19:22:00</td>\n",
       "      <td>android</td>\n",
       "      <td>1074318</td>\n",
       "      <td>62873</td>\n",
       "      <td>76224</td>\n",
       "    </tr>\n",
       "    <tr>\n",
       "      <th>1342585</th>\n",
       "      <td>2018-11-10 23:56:00</td>\n",
       "      <td>android</td>\n",
       "      <td>805114</td>\n",
       "      <td>62873</td>\n",
       "      <td>52490</td>\n",
       "    </tr>\n",
       "    <tr>\n",
       "      <th>1442973</th>\n",
       "      <td>2018-11-12 20:03:00</td>\n",
       "      <td>android</td>\n",
       "      <td>763475</td>\n",
       "      <td>62873</td>\n",
       "      <td>73377</td>\n",
       "    </tr>\n",
       "    <tr>\n",
       "      <th>1443245</th>\n",
       "      <td>2018-11-12 20:06:00</td>\n",
       "      <td>android</td>\n",
       "      <td>763475</td>\n",
       "      <td>62873</td>\n",
       "      <td>28621</td>\n",
       "    </tr>\n",
       "    <tr>\n",
       "      <th>1554970</th>\n",
       "      <td>2018-11-14 20:02:00</td>\n",
       "      <td>android</td>\n",
       "      <td>586786</td>\n",
       "      <td>62873</td>\n",
       "      <td>45690</td>\n",
       "    </tr>\n",
       "    <tr>\n",
       "      <th>1563896</th>\n",
       "      <td>2018-11-14 21:42:00</td>\n",
       "      <td>android</td>\n",
       "      <td>809094</td>\n",
       "      <td>62873</td>\n",
       "      <td>4069</td>\n",
       "    </tr>\n",
       "    <tr>\n",
       "      <th>1584308</th>\n",
       "      <td>2018-11-15 02:54:00</td>\n",
       "      <td>android</td>\n",
       "      <td>351539</td>\n",
       "      <td>62873</td>\n",
       "      <td>74542</td>\n",
       "    </tr>\n",
       "    <tr>\n",
       "      <th>1658818</th>\n",
       "      <td>2018-11-16 13:21:00</td>\n",
       "      <td>android</td>\n",
       "      <td>136040</td>\n",
       "      <td>62873</td>\n",
       "      <td>835</td>\n",
       "    </tr>\n",
       "    <tr>\n",
       "      <th>1659097</th>\n",
       "      <td>2018-11-16 13:29:00</td>\n",
       "      <td>android</td>\n",
       "      <td>136040</td>\n",
       "      <td>62873</td>\n",
       "      <td>45690</td>\n",
       "    </tr>\n",
       "    <tr>\n",
       "      <th>1714293</th>\n",
       "      <td>2018-11-17 12:40:00</td>\n",
       "      <td>android</td>\n",
       "      <td>1076766</td>\n",
       "      <td>62873</td>\n",
       "      <td>45690</td>\n",
       "    </tr>\n",
       "    <tr>\n",
       "      <th>1811322</th>\n",
       "      <td>2018-11-18 22:45:00</td>\n",
       "      <td>android</td>\n",
       "      <td>835189</td>\n",
       "      <td>62873</td>\n",
       "      <td>70499</td>\n",
       "    </tr>\n",
       "    <tr>\n",
       "      <th>1811850</th>\n",
       "      <td>2018-11-18 22:51:00</td>\n",
       "      <td>android</td>\n",
       "      <td>835189</td>\n",
       "      <td>62873</td>\n",
       "      <td>70499</td>\n",
       "    </tr>\n",
       "    <tr>\n",
       "      <th>1849556</th>\n",
       "      <td>2018-11-19 17:01:00</td>\n",
       "      <td>android</td>\n",
       "      <td>610562</td>\n",
       "      <td>62873</td>\n",
       "      <td>70499</td>\n",
       "    </tr>\n",
       "    <tr>\n",
       "      <th>1849787</th>\n",
       "      <td>2018-11-19 17:05:00</td>\n",
       "      <td>android</td>\n",
       "      <td>610562</td>\n",
       "      <td>62873</td>\n",
       "      <td>70499</td>\n",
       "    </tr>\n",
       "    <tr>\n",
       "      <th>1856877</th>\n",
       "      <td>2018-11-19 19:36:00</td>\n",
       "      <td>android</td>\n",
       "      <td>557309</td>\n",
       "      <td>62873</td>\n",
       "      <td>45690</td>\n",
       "    </tr>\n",
       "    <tr>\n",
       "      <th>1915580</th>\n",
       "      <td>2018-11-20 18:18:00</td>\n",
       "      <td>android</td>\n",
       "      <td>119542</td>\n",
       "      <td>62873</td>\n",
       "      <td>37973</td>\n",
       "    </tr>\n",
       "    <tr>\n",
       "      <th>1915586</th>\n",
       "      <td>2018-11-20 18:18:00</td>\n",
       "      <td>android</td>\n",
       "      <td>119542</td>\n",
       "      <td>62873</td>\n",
       "      <td>129699</td>\n",
       "    </tr>\n",
       "    <tr>\n",
       "      <th>1997756</th>\n",
       "      <td>2018-11-21 22:36:00</td>\n",
       "      <td>android</td>\n",
       "      <td>973885</td>\n",
       "      <td>62873</td>\n",
       "      <td>70499</td>\n",
       "    </tr>\n",
       "    <tr>\n",
       "      <th>2193251</th>\n",
       "      <td>2018-11-25 17:13:00</td>\n",
       "      <td>android</td>\n",
       "      <td>518690</td>\n",
       "      <td>62873</td>\n",
       "      <td>55096</td>\n",
       "    </tr>\n",
       "    <tr>\n",
       "      <th>2225632</th>\n",
       "      <td>2018-11-26 07:49:00</td>\n",
       "      <td>android</td>\n",
       "      <td>725709</td>\n",
       "      <td>62873</td>\n",
       "      <td>29402</td>\n",
       "    </tr>\n",
       "    <tr>\n",
       "      <th>2692401</th>\n",
       "      <td>2018-12-05 05:32:00</td>\n",
       "      <td>android</td>\n",
       "      <td>585242</td>\n",
       "      <td>62873</td>\n",
       "      <td>53751</td>\n",
       "    </tr>\n",
       "    <tr>\n",
       "      <th>2692416</th>\n",
       "      <td>2018-12-05 05:33:00</td>\n",
       "      <td>android</td>\n",
       "      <td>585242</td>\n",
       "      <td>62873</td>\n",
       "      <td>81973</td>\n",
       "    </tr>\n",
       "    <tr>\n",
       "      <th>2692417</th>\n",
       "      <td>2018-12-05 05:33:00</td>\n",
       "      <td>android</td>\n",
       "      <td>585242</td>\n",
       "      <td>62873</td>\n",
       "      <td>125987</td>\n",
       "    </tr>\n",
       "    <tr>\n",
       "      <th>2692429</th>\n",
       "      <td>2018-12-05 05:35:00</td>\n",
       "      <td>android</td>\n",
       "      <td>585242</td>\n",
       "      <td>62873</td>\n",
       "      <td>90187</td>\n",
       "    </tr>\n",
       "    <tr>\n",
       "      <th>2692444</th>\n",
       "      <td>2018-12-05 05:36:00</td>\n",
       "      <td>android</td>\n",
       "      <td>585242</td>\n",
       "      <td>62873</td>\n",
       "      <td>120891</td>\n",
       "    </tr>\n",
       "    <tr>\n",
       "      <th>2692458</th>\n",
       "      <td>2018-12-05 05:37:00</td>\n",
       "      <td>android</td>\n",
       "      <td>585242</td>\n",
       "      <td>62873</td>\n",
       "      <td>53751</td>\n",
       "    </tr>\n",
       "    <tr>\n",
       "      <th>2755772</th>\n",
       "      <td>2018-12-06 00:39:00</td>\n",
       "      <td>android</td>\n",
       "      <td>789027</td>\n",
       "      <td>62873</td>\n",
       "      <td>9634</td>\n",
       "    </tr>\n",
       "    <tr>\n",
       "      <th>2776625</th>\n",
       "      <td>2018-12-06 12:23:00</td>\n",
       "      <td>android</td>\n",
       "      <td>417912</td>\n",
       "      <td>62873</td>\n",
       "      <td>117738</td>\n",
       "    </tr>\n",
       "    <tr>\n",
       "      <th>2776652</th>\n",
       "      <td>2018-12-06 12:24:00</td>\n",
       "      <td>android</td>\n",
       "      <td>417912</td>\n",
       "      <td>62873</td>\n",
       "      <td>62830</td>\n",
       "    </tr>\n",
       "    <tr>\n",
       "      <th>2776691</th>\n",
       "      <td>2018-12-06 12:25:00</td>\n",
       "      <td>android</td>\n",
       "      <td>417912</td>\n",
       "      <td>62873</td>\n",
       "      <td>34922</td>\n",
       "    </tr>\n",
       "    <tr>\n",
       "      <th>2810926</th>\n",
       "      <td>2018-12-06 23:09:00</td>\n",
       "      <td>android</td>\n",
       "      <td>877202</td>\n",
       "      <td>62873</td>\n",
       "      <td>95561</td>\n",
       "    </tr>\n",
       "    <tr>\n",
       "      <th>2813474</th>\n",
       "      <td>2018-12-06 23:46:00</td>\n",
       "      <td>android</td>\n",
       "      <td>298694</td>\n",
       "      <td>62873</td>\n",
       "      <td>104347</td>\n",
       "    </tr>\n",
       "    <tr>\n",
       "      <th>2813599</th>\n",
       "      <td>2018-12-06 23:48:00</td>\n",
       "      <td>android</td>\n",
       "      <td>298694</td>\n",
       "      <td>62873</td>\n",
       "      <td>80555</td>\n",
       "    </tr>\n",
       "    <tr>\n",
       "      <th>2813666</th>\n",
       "      <td>2018-12-06 23:49:00</td>\n",
       "      <td>android</td>\n",
       "      <td>298694</td>\n",
       "      <td>62873</td>\n",
       "      <td>34489</td>\n",
       "    </tr>\n",
       "    <tr>\n",
       "      <th>2813806</th>\n",
       "      <td>2018-12-06 23:52:00</td>\n",
       "      <td>android</td>\n",
       "      <td>298694</td>\n",
       "      <td>62873</td>\n",
       "      <td>29889</td>\n",
       "    </tr>\n",
       "    <tr>\n",
       "      <th>2813874</th>\n",
       "      <td>2018-12-06 23:54:00</td>\n",
       "      <td>android</td>\n",
       "      <td>298694</td>\n",
       "      <td>62873</td>\n",
       "      <td>118851</td>\n",
       "    </tr>\n",
       "    <tr>\n",
       "      <th>2813977</th>\n",
       "      <td>2018-12-06 23:56:00</td>\n",
       "      <td>android</td>\n",
       "      <td>298694</td>\n",
       "      <td>62873</td>\n",
       "      <td>118851</td>\n",
       "    </tr>\n",
       "    <tr>\n",
       "      <th>2863359</th>\n",
       "      <td>2018-12-07 22:31:00</td>\n",
       "      <td>android</td>\n",
       "      <td>156133</td>\n",
       "      <td>62873</td>\n",
       "      <td>37894</td>\n",
       "    </tr>\n",
       "    <tr>\n",
       "      <th>2864022</th>\n",
       "      <td>2018-12-07 22:43:00</td>\n",
       "      <td>android</td>\n",
       "      <td>156133</td>\n",
       "      <td>62873</td>\n",
       "      <td>123310</td>\n",
       "    </tr>\n",
       "    <tr>\n",
       "      <th>2864146</th>\n",
       "      <td>2018-12-07 22:45:00</td>\n",
       "      <td>android</td>\n",
       "      <td>156133</td>\n",
       "      <td>62873</td>\n",
       "      <td>98911</td>\n",
       "    </tr>\n",
       "    <tr>\n",
       "      <th>2864150</th>\n",
       "      <td>2018-12-07 22:45:00</td>\n",
       "      <td>android</td>\n",
       "      <td>156133</td>\n",
       "      <td>62873</td>\n",
       "      <td>98911</td>\n",
       "    </tr>\n",
       "    <tr>\n",
       "      <th>3113842</th>\n",
       "      <td>2018-12-11 22:54:00</td>\n",
       "      <td>android</td>\n",
       "      <td>782471</td>\n",
       "      <td>62873</td>\n",
       "      <td>7522</td>\n",
       "    </tr>\n",
       "    <tr>\n",
       "      <th>3113996</th>\n",
       "      <td>2018-12-11 22:56:00</td>\n",
       "      <td>android</td>\n",
       "      <td>782471</td>\n",
       "      <td>62873</td>\n",
       "      <td>7522</td>\n",
       "    </tr>\n",
       "  </tbody>\n",
       "</table>\n",
       "</div>"
      ],
      "text/plain": [
       "                 server_time device_type  session_id  user_id  item_id\n",
       "158831   2018-10-18 12:02:00     android      342525    62873    32155\n",
       "335392   2018-10-22 07:46:00     android      476439    62873   118475\n",
       "1225915  2018-11-08 19:18:00     android     1074318    62873    32155\n",
       "1226129  2018-11-08 19:22:00     android     1074318    62873    76224\n",
       "1342585  2018-11-10 23:56:00     android      805114    62873    52490\n",
       "1442973  2018-11-12 20:03:00     android      763475    62873    73377\n",
       "1443245  2018-11-12 20:06:00     android      763475    62873    28621\n",
       "1554970  2018-11-14 20:02:00     android      586786    62873    45690\n",
       "1563896  2018-11-14 21:42:00     android      809094    62873     4069\n",
       "1584308  2018-11-15 02:54:00     android      351539    62873    74542\n",
       "1658818  2018-11-16 13:21:00     android      136040    62873      835\n",
       "1659097  2018-11-16 13:29:00     android      136040    62873    45690\n",
       "1714293  2018-11-17 12:40:00     android     1076766    62873    45690\n",
       "1811322  2018-11-18 22:45:00     android      835189    62873    70499\n",
       "1811850  2018-11-18 22:51:00     android      835189    62873    70499\n",
       "1849556  2018-11-19 17:01:00     android      610562    62873    70499\n",
       "1849787  2018-11-19 17:05:00     android      610562    62873    70499\n",
       "1856877  2018-11-19 19:36:00     android      557309    62873    45690\n",
       "1915580  2018-11-20 18:18:00     android      119542    62873    37973\n",
       "1915586  2018-11-20 18:18:00     android      119542    62873   129699\n",
       "1997756  2018-11-21 22:36:00     android      973885    62873    70499\n",
       "2193251  2018-11-25 17:13:00     android      518690    62873    55096\n",
       "2225632  2018-11-26 07:49:00     android      725709    62873    29402\n",
       "2692401  2018-12-05 05:32:00     android      585242    62873    53751\n",
       "2692416  2018-12-05 05:33:00     android      585242    62873    81973\n",
       "2692417  2018-12-05 05:33:00     android      585242    62873   125987\n",
       "2692429  2018-12-05 05:35:00     android      585242    62873    90187\n",
       "2692444  2018-12-05 05:36:00     android      585242    62873   120891\n",
       "2692458  2018-12-05 05:37:00     android      585242    62873    53751\n",
       "2755772  2018-12-06 00:39:00     android      789027    62873     9634\n",
       "2776625  2018-12-06 12:23:00     android      417912    62873   117738\n",
       "2776652  2018-12-06 12:24:00     android      417912    62873    62830\n",
       "2776691  2018-12-06 12:25:00     android      417912    62873    34922\n",
       "2810926  2018-12-06 23:09:00     android      877202    62873    95561\n",
       "2813474  2018-12-06 23:46:00     android      298694    62873   104347\n",
       "2813599  2018-12-06 23:48:00     android      298694    62873    80555\n",
       "2813666  2018-12-06 23:49:00     android      298694    62873    34489\n",
       "2813806  2018-12-06 23:52:00     android      298694    62873    29889\n",
       "2813874  2018-12-06 23:54:00     android      298694    62873   118851\n",
       "2813977  2018-12-06 23:56:00     android      298694    62873   118851\n",
       "2863359  2018-12-07 22:31:00     android      156133    62873    37894\n",
       "2864022  2018-12-07 22:43:00     android      156133    62873   123310\n",
       "2864146  2018-12-07 22:45:00     android      156133    62873    98911\n",
       "2864150  2018-12-07 22:45:00     android      156133    62873    98911\n",
       "3113842  2018-12-11 22:54:00     android      782471    62873     7522\n",
       "3113996  2018-12-11 22:56:00     android      782471    62873     7522"
      ]
     },
     "execution_count": 12,
     "metadata": {},
     "output_type": "execute_result"
    }
   ],
   "source": [
    "view_log.loc[view_log['user_id']==62873]"
   ]
  },
  {
   "cell_type": "code",
   "execution_count": 13,
   "metadata": {},
   "outputs": [
    {
     "data": {
      "text/html": [
       "<div>\n",
       "<style scoped>\n",
       "    .dataframe tbody tr th:only-of-type {\n",
       "        vertical-align: middle;\n",
       "    }\n",
       "\n",
       "    .dataframe tbody tr th {\n",
       "        vertical-align: top;\n",
       "    }\n",
       "\n",
       "    .dataframe thead th {\n",
       "        text-align: right;\n",
       "    }\n",
       "</style>\n",
       "<table border=\"1\" class=\"dataframe\">\n",
       "  <thead>\n",
       "    <tr style=\"text-align: right;\">\n",
       "      <th></th>\n",
       "      <th>item_id</th>\n",
       "      <th>item_price</th>\n",
       "      <th>category_1</th>\n",
       "      <th>category_2</th>\n",
       "      <th>category_3</th>\n",
       "      <th>product_type</th>\n",
       "    </tr>\n",
       "  </thead>\n",
       "  <tbody>\n",
       "    <tr>\n",
       "      <th>0</th>\n",
       "      <td>26880</td>\n",
       "      <td>4602</td>\n",
       "      <td>11</td>\n",
       "      <td>35</td>\n",
       "      <td>20</td>\n",
       "      <td>3040</td>\n",
       "    </tr>\n",
       "    <tr>\n",
       "      <th>1</th>\n",
       "      <td>54939</td>\n",
       "      <td>3513</td>\n",
       "      <td>12</td>\n",
       "      <td>57</td>\n",
       "      <td>85</td>\n",
       "      <td>6822</td>\n",
       "    </tr>\n",
       "    <tr>\n",
       "      <th>2</th>\n",
       "      <td>40383</td>\n",
       "      <td>825</td>\n",
       "      <td>17</td>\n",
       "      <td>8</td>\n",
       "      <td>279</td>\n",
       "      <td>1619</td>\n",
       "    </tr>\n",
       "    <tr>\n",
       "      <th>3</th>\n",
       "      <td>8777</td>\n",
       "      <td>2355</td>\n",
       "      <td>13</td>\n",
       "      <td>58</td>\n",
       "      <td>189</td>\n",
       "      <td>5264</td>\n",
       "    </tr>\n",
       "    <tr>\n",
       "      <th>4</th>\n",
       "      <td>113705</td>\n",
       "      <td>1267</td>\n",
       "      <td>17</td>\n",
       "      <td>39</td>\n",
       "      <td>151</td>\n",
       "      <td>10239</td>\n",
       "    </tr>\n",
       "  </tbody>\n",
       "</table>\n",
       "</div>"
      ],
      "text/plain": [
       "   item_id  item_price  category_1  category_2  category_3  product_type\n",
       "0    26880        4602          11          35          20          3040\n",
       "1    54939        3513          12          57          85          6822\n",
       "2    40383         825          17           8         279          1619\n",
       "3     8777        2355          13          58         189          5264\n",
       "4   113705        1267          17          39         151         10239"
      ]
     },
     "execution_count": 13,
     "metadata": {},
     "output_type": "execute_result"
    }
   ],
   "source": [
    "item_data = pd.read_csv('./train_NA17Sgz/item_data.csv')\n",
    "item_data.head()"
   ]
  },
  {
   "cell_type": "code",
   "execution_count": 14,
   "metadata": {},
   "outputs": [
    {
     "name": "stdout",
     "output_type": "stream",
     "text": [
      "Shape of item_data: (132761, 6)\n"
     ]
    }
   ],
   "source": [
    "print('Shape of item_data:', item_data.shape)"
   ]
  },
  {
   "cell_type": "markdown",
   "metadata": {},
   "source": [
    "## Feature Engineering"
   ]
  },
  {
   "cell_type": "code",
   "execution_count": 2,
   "metadata": {},
   "outputs": [],
   "source": [
    "# Label Encoding of Categorical Features.\n",
    "lbl_enc = LabelEncoder()\n",
    "train['os_version_enc'] = lbl_enc.fit_transform(train['os_version'])\n",
    "test['os_version_enc'] = lbl_enc.transform(test['os_version'])\n"
   ]
  },
  {
   "cell_type": "code",
   "execution_count": 16,
   "metadata": {},
   "outputs": [],
   "source": [
    "impression_time = pd.to_datetime(train['impression_time'])"
   ]
  },
  {
   "cell_type": "code",
   "execution_count": 17,
   "metadata": {},
   "outputs": [],
   "source": [
    "# Making data time features from 'impression_time' of the ads.\n",
    "impression_df = pd.DataFrame()\n",
    "impression_df['impression_time'] = train['impression_time']\n",
    "impression_df['year'] = impression_time.dt.year\n",
    "impression_df['month'] = impression_time.dt.month\n",
    "impression_df['day'] = impression_time.dt.day\n",
    "\n",
    "impression_df['hour'] = impression_time.dt.hour\n",
    "impression_df['mint'] = impression_time.dt.minute"
   ]
  },
  {
   "cell_type": "code",
   "execution_count": 18,
   "metadata": {},
   "outputs": [],
   "source": [
    "\n",
    "train = train.merge(impression_df, on='impression_time', how='left')"
   ]
  },
  {
   "cell_type": "markdown",
   "metadata": {},
   "source": [
    "## Combining item data and view logs"
   ]
  },
  {
   "cell_type": "code",
   "execution_count": 19,
   "metadata": {},
   "outputs": [],
   "source": [
    "item_view_log = view_log.merge(item_data, on='item_id', how='left')"
   ]
  },
  {
   "cell_type": "code",
   "execution_count": 20,
   "metadata": {},
   "outputs": [
    {
     "data": {
      "text/html": [
       "<div>\n",
       "<style scoped>\n",
       "    .dataframe tbody tr th:only-of-type {\n",
       "        vertical-align: middle;\n",
       "    }\n",
       "\n",
       "    .dataframe tbody tr th {\n",
       "        vertical-align: top;\n",
       "    }\n",
       "\n",
       "    .dataframe thead th {\n",
       "        text-align: right;\n",
       "    }\n",
       "</style>\n",
       "<table border=\"1\" class=\"dataframe\">\n",
       "  <thead>\n",
       "    <tr style=\"text-align: right;\">\n",
       "      <th></th>\n",
       "      <th>server_time</th>\n",
       "      <th>device_type</th>\n",
       "      <th>session_id</th>\n",
       "      <th>user_id</th>\n",
       "      <th>item_id</th>\n",
       "      <th>item_price</th>\n",
       "      <th>category_1</th>\n",
       "      <th>category_2</th>\n",
       "      <th>category_3</th>\n",
       "      <th>product_type</th>\n",
       "    </tr>\n",
       "  </thead>\n",
       "  <tbody>\n",
       "    <tr>\n",
       "      <th>0</th>\n",
       "      <td>2018-10-15 08:58:00</td>\n",
       "      <td>android</td>\n",
       "      <td>112333</td>\n",
       "      <td>4557</td>\n",
       "      <td>32970</td>\n",
       "      <td>54685.0</td>\n",
       "      <td>16.0</td>\n",
       "      <td>56.0</td>\n",
       "      <td>253.0</td>\n",
       "      <td>3184.0</td>\n",
       "    </tr>\n",
       "    <tr>\n",
       "      <th>1</th>\n",
       "      <td>2018-10-15 08:58:00</td>\n",
       "      <td>android</td>\n",
       "      <td>503590</td>\n",
       "      <td>74788</td>\n",
       "      <td>7640</td>\n",
       "      <td>1376.0</td>\n",
       "      <td>7.0</td>\n",
       "      <td>71.0</td>\n",
       "      <td>228.0</td>\n",
       "      <td>545.0</td>\n",
       "    </tr>\n",
       "    <tr>\n",
       "      <th>2</th>\n",
       "      <td>2018-10-15 08:58:00</td>\n",
       "      <td>android</td>\n",
       "      <td>573960</td>\n",
       "      <td>23628</td>\n",
       "      <td>128855</td>\n",
       "      <td>4544.0</td>\n",
       "      <td>4.0</td>\n",
       "      <td>38.0</td>\n",
       "      <td>62.0</td>\n",
       "      <td>5609.0</td>\n",
       "    </tr>\n",
       "    <tr>\n",
       "      <th>3</th>\n",
       "      <td>2018-10-15 08:58:00</td>\n",
       "      <td>android</td>\n",
       "      <td>121691</td>\n",
       "      <td>2430</td>\n",
       "      <td>12774</td>\n",
       "      <td>904.0</td>\n",
       "      <td>17.0</td>\n",
       "      <td>39.0</td>\n",
       "      <td>252.0</td>\n",
       "      <td>2740.0</td>\n",
       "    </tr>\n",
       "    <tr>\n",
       "      <th>4</th>\n",
       "      <td>2018-10-15 08:58:00</td>\n",
       "      <td>android</td>\n",
       "      <td>218564</td>\n",
       "      <td>19227</td>\n",
       "      <td>28296</td>\n",
       "      <td>2304.0</td>\n",
       "      <td>12.0</td>\n",
       "      <td>57.0</td>\n",
       "      <td>54.0</td>\n",
       "      <td>7422.0</td>\n",
       "    </tr>\n",
       "  </tbody>\n",
       "</table>\n",
       "</div>"
      ],
      "text/plain": [
       "           server_time device_type  session_id  user_id  item_id  item_price  \\\n",
       "0  2018-10-15 08:58:00     android      112333     4557    32970     54685.0   \n",
       "1  2018-10-15 08:58:00     android      503590    74788     7640      1376.0   \n",
       "2  2018-10-15 08:58:00     android      573960    23628   128855      4544.0   \n",
       "3  2018-10-15 08:58:00     android      121691     2430    12774       904.0   \n",
       "4  2018-10-15 08:58:00     android      218564    19227    28296      2304.0   \n",
       "\n",
       "   category_1  category_2  category_3  product_type  \n",
       "0        16.0        56.0       253.0        3184.0  \n",
       "1         7.0        71.0       228.0         545.0  \n",
       "2         4.0        38.0        62.0        5609.0  \n",
       "3        17.0        39.0       252.0        2740.0  \n",
       "4        12.0        57.0        54.0        7422.0  "
      ]
     },
     "execution_count": 20,
     "metadata": {},
     "output_type": "execute_result"
    }
   ],
   "source": [
    "item_view_log.head()"
   ]
  },
  {
   "cell_type": "code",
   "execution_count": 21,
   "metadata": {},
   "outputs": [
    {
     "data": {
      "text/plain": [
       "9.0     408936\n",
       "17.0    386521\n",
       "1.0     374569\n",
       "4.0     290638\n",
       "13.0    244439\n",
       "11.0    236065\n",
       "7.0     174613\n",
       "10.0    172682\n",
       "14.0    166055\n",
       "8.0     162489\n",
       "12.0    136464\n",
       "16.0    127734\n",
       "0.0     120711\n",
       "15.0     69094\n",
       "6.0      45827\n",
       "2.0          2\n",
       "5.0          1\n",
       "Name: category_1, dtype: int64"
      ]
     },
     "execution_count": 21,
     "metadata": {},
     "output_type": "execute_result"
    }
   ],
   "source": [
    "item_view_log['category_1'].value_counts()"
   ]
  },
  {
   "cell_type": "markdown",
   "metadata": {},
   "source": [
    "## Counting no. of items belonging to different categories in 'category_1' for each user"
   ]
  },
  {
   "cell_type": "code",
   "execution_count": null,
   "metadata": {},
   "outputs": [],
   "source": [
    "# Counting no. of items belonging to different categories in 'category_1' for each user\n",
    "\n",
    "category1_df = pd.pivot_table(item_view_log, values=\"item_id\", index=\"user_id\", columns=\"category_1\", aggfunc=\"count\", fill_value=0).reset_index()\n",
    "print(category1_df.columns)\n",
    "\n",
    "category1_df.columns = [\"user_id\"] + [\"category1_\"+str(i) for i in range(17)]\n"
   ]
  },
  {
   "cell_type": "code",
   "execution_count": 1,
   "metadata": {},
   "outputs": [],
   "source": [
    "# Counting no. of items belonging to different categories in 'category_2' for each user\n",
    "\n",
    "category2_df = pd.pivot_table(item_view_log, values=\"item_id\", index=\"user_id\", columns=\"category_2\", aggfunc=\"count\", fill_value=0).reset_index()\n",
    "print(category2_df.columns)\n",
    "\n",
    "category2_df.columns = [\"user_id\"] + [\"category1_\"+str(i) for i in range(79)]"
   ]
  },
  {
   "cell_type": "markdown",
   "metadata": {},
   "source": [
    "## Heatmap"
   ]
  },
  {
   "cell_type": "code",
   "execution_count": 49,
   "metadata": {},
   "outputs": [
    {
     "data": {
      "text/plain": [
       "<matplotlib.axes._subplots.AxesSubplot at 0x1a24101fd0>"
      ]
     },
     "execution_count": 49,
     "metadata": {},
     "output_type": "execute_result"
    },
    {
     "data": {
      "image/png": "[encoded data removed]",
      "text/plain": [
       "<Figure size 432x288 with 2 Axes>"
      ]
     },
     "metadata": {},
     "output_type": "display_data"
    }
   ],
   "source": [
    "sns.heatmap(train.corr(), annot=True, fmt='.2f')"
   ]
  },
  {
   "cell_type": "markdown",
   "metadata": {},
   "source": [
    "## Calculating Click-Percentage for each user"
   ]
  },
  {
   "cell_type": "code",
   "execution_count": 15,
   "metadata": {},
   "outputs": [],
   "source": [
    "# Calculating click percentage for each user.\n",
    "\n",
    "df = train.groupby(['user_id'])['is_click'].sum() / train.groupby(['user_id'])['is_click'].size()\n",
    "#click_count_dict = dict(train.groupby(['user_id'])['is_click'].size())"
   ]
  },
  {
   "cell_type": "code",
   "execution_count": 16,
   "metadata": {},
   "outputs": [],
   "source": [
    "train = train.join(df, on='user_id', how='left', rsuffix='_pct')"
   ]
  },
  {
   "cell_type": "markdown",
   "metadata": {},
   "source": [
    "## Training"
   ]
  },
  {
   "cell_type": "code",
   "execution_count": 51,
   "metadata": {},
   "outputs": [],
   "source": [
    "X = train[['is_click_pct', 'app_code', 'is_4G', 'os_version_enc', 'month', 'hour', 'mint']]\n",
    "y = train['is_click']"
   ]
  },
  {
   "cell_type": "code",
   "execution_count": 52,
   "metadata": {},
   "outputs": [],
   "source": [
    "# Dividing train set into 70% train set and remaining 30% as cross-validation set for model evaluation.\n",
    "X_train, X_cv, y_train, y_cv = train_test_split(X, y, test_size=0.3, random_state=42)"
   ]
  },
  {
   "cell_type": "markdown",
   "metadata": {},
   "source": [
    "## Xtreme Gradient Boosting model"
   ]
  },
  {
   "cell_type": "code",
   "execution_count": 53,
   "metadata": {},
   "outputs": [],
   "source": [
    "reg = xgb.XGBRegressor()\n",
    "reg = reg.fit(X_train , y_train)"
   ]
  },
  {
   "cell_type": "code",
   "execution_count": 54,
   "metadata": {},
   "outputs": [],
   "source": [
    "pred_cv = reg.predict(X_cv)"
   ]
  },
  {
   "cell_type": "code",
   "execution_count": 55,
   "metadata": {},
   "outputs": [
    {
     "data": {
      "text/plain": [
       "0.056448314934678494"
      ]
     },
     "execution_count": 55,
     "metadata": {},
     "output_type": "execute_result"
    }
   ],
   "source": [
    "mean_absolute_error(pred_cv, y_cv)"
   ]
  },
  {
   "cell_type": "markdown",
   "metadata": {},
   "source": [
    "## Working on real test set"
   ]
  },
  {
   "cell_type": "code",
   "execution_count": 20,
   "metadata": {},
   "outputs": [
    {
     "data": {
      "text/html": [
       "<div>\n",
       "<style scoped>\n",
       "    .dataframe tbody tr th:only-of-type {\n",
       "        vertical-align: middle;\n",
       "    }\n",
       "\n",
       "    .dataframe tbody tr th {\n",
       "        vertical-align: top;\n",
       "    }\n",
       "\n",
       "    .dataframe thead th {\n",
       "        text-align: right;\n",
       "    }\n",
       "</style>\n",
       "<table border=\"1\" class=\"dataframe\">\n",
       "  <thead>\n",
       "    <tr style=\"text-align: right;\">\n",
       "      <th></th>\n",
       "      <th>impression_id</th>\n",
       "      <th>impression_time</th>\n",
       "      <th>user_id</th>\n",
       "      <th>app_code</th>\n",
       "      <th>os_version</th>\n",
       "      <th>is_4G</th>\n",
       "    </tr>\n",
       "  </thead>\n",
       "  <tbody>\n",
       "    <tr>\n",
       "      <th>0</th>\n",
       "      <td>a9e7126a585a69a32bc7414e9d0c0ada</td>\n",
       "      <td>2018-12-13 07:44:00</td>\n",
       "      <td>44754</td>\n",
       "      <td>127</td>\n",
       "      <td>latest</td>\n",
       "      <td>1</td>\n",
       "    </tr>\n",
       "    <tr>\n",
       "      <th>1</th>\n",
       "      <td>caac14a5bf2ba283db7708bb34855760</td>\n",
       "      <td>2018-12-13 07:45:00</td>\n",
       "      <td>29656</td>\n",
       "      <td>44</td>\n",
       "      <td>latest</td>\n",
       "      <td>0</td>\n",
       "    </tr>\n",
       "    <tr>\n",
       "      <th>2</th>\n",
       "      <td>13f10ba306a19ce7bec2f3cae507b698</td>\n",
       "      <td>2018-12-13 07:46:00</td>\n",
       "      <td>25234</td>\n",
       "      <td>296</td>\n",
       "      <td>latest</td>\n",
       "      <td>1</td>\n",
       "    </tr>\n",
       "    <tr>\n",
       "      <th>3</th>\n",
       "      <td>39c4b4dc0e9701b55a0a4f072008fb3f</td>\n",
       "      <td>2018-12-13 07:47:00</td>\n",
       "      <td>22988</td>\n",
       "      <td>207</td>\n",
       "      <td>latest</td>\n",
       "      <td>1</td>\n",
       "    </tr>\n",
       "    <tr>\n",
       "      <th>4</th>\n",
       "      <td>bf5a572cca75f5fc67f4b14e58b11d70</td>\n",
       "      <td>2018-12-13 07:48:00</td>\n",
       "      <td>35431</td>\n",
       "      <td>242</td>\n",
       "      <td>latest</td>\n",
       "      <td>1</td>\n",
       "    </tr>\n",
       "  </tbody>\n",
       "</table>\n",
       "</div>"
      ],
      "text/plain": [
       "                      impression_id      impression_time  user_id  app_code  \\\n",
       "0  a9e7126a585a69a32bc7414e9d0c0ada  2018-12-13 07:44:00    44754       127   \n",
       "1  caac14a5bf2ba283db7708bb34855760  2018-12-13 07:45:00    29656        44   \n",
       "2  13f10ba306a19ce7bec2f3cae507b698  2018-12-13 07:46:00    25234       296   \n",
       "3  39c4b4dc0e9701b55a0a4f072008fb3f  2018-12-13 07:47:00    22988       207   \n",
       "4  bf5a572cca75f5fc67f4b14e58b11d70  2018-12-13 07:48:00    35431       242   \n",
       "\n",
       "  os_version  is_4G  \n",
       "0     latest      1  \n",
       "1     latest      0  \n",
       "2     latest      1  \n",
       "3     latest      1  \n",
       "4     latest      1  "
      ]
     },
     "execution_count": 20,
     "metadata": {},
     "output_type": "execute_result"
    }
   ],
   "source": [
    "test = pd.read_csv('./test.csv')\n",
    "test.head()"
   ]
  },
  {
   "cell_type": "code",
   "execution_count": 30,
   "metadata": {},
   "outputs": [],
   "source": [
    "test = test.join(df, on='user_id', how='left', rsuffix='_pct')\n"
   ]
  },
  {
   "cell_type": "code",
   "execution_count": 35,
   "metadata": {},
   "outputs": [],
   "source": [
    "test = test.fillna(0.0000)"
   ]
  },
  {
   "cell_type": "code",
   "execution_count": 40,
   "metadata": {},
   "outputs": [],
   "source": [
    "test = test.rename(columns={'is_click': 'is_click_pct'})"
   ]
  },
  {
   "cell_type": "code",
   "execution_count": 60,
   "metadata": {},
   "outputs": [],
   "source": [
    "X_test = test[['is_click_pct', 'app_code', 'is_4G']]"
   ]
  },
  {
   "cell_type": "code",
   "execution_count": 61,
   "metadata": {},
   "outputs": [],
   "source": [
    "pred_test = reg.predict(X_test)"
   ]
  },
  {
   "cell_type": "code",
   "execution_count": 67,
   "metadata": {},
   "outputs": [],
   "source": [
    "result = pd.DataFrame()\n",
    "result['impression_id'] = test['impression_id']\n",
    "result['is_click'] = np.abs(pred_test)"
   ]
  },
  {
   "cell_type": "code",
   "execution_count": 68,
   "metadata": {},
   "outputs": [],
   "source": [
    "result.to_csv('submission.csv', index=False)"
   ]
  },
  {
   "cell_type": "code",
   "execution_count": null,
   "metadata": {},
   "outputs": [],
   "source": []
  }
 ],
 "metadata": {
  "kernelspec": {
   "display_name": "Python 3",
   "language": "python",
   "name": "python3"
  },
  "language_info": {
   "codemirror_mode": {
    "name": "ipython",
    "version": 3
   },
   "file_extension": ".py",
   "mimetype": "text/x-python",
   "name": "python",
   "nbconvert_exporter": "python",
   "pygments_lexer": "ipython3",
   "version": "3.6.8"
  }
 },
 "nbformat": 4,
 "nbformat_minor": 2
}
